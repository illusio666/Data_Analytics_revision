{
 "cells": [
  {
   "cell_type": "markdown",
   "id": "a92062e2",
   "metadata": {},
   "source": [
    "\n",
    "### 📊 Chart Comparison: Plotly vs Plotly Express vs Matplotlib vs Seaborn\n",
    "\n",
    "| Chart Type       | Plotly (Graph Objects)         | Plotly Express (`px`)           | Matplotlib                       | Seaborn                          | When to Use It                                                                 |\n",
    "|------------------|--------------------------------|----------------------------------|----------------------------------|----------------------------------|--------------------------------------------------------------------------------|\n",
    "| **Scatter Plot** | `go.Scatter()`                 | `px.scatter()`                   | `plt.scatter()`                  | `sns.scatterplot()`              | Explore relationships between two numeric variables; detect clusters or outliers |\n",
    "| **Line Chart**   | `go.Scatter(mode='lines')`     | `px.line()`                      | `plt.plot()`                     | `sns.lineplot()`                 | Show trends over time or ordered categories                                     |\n",
    "| **Bar Chart**    | `go.Bar()`                     | `px.bar()`                       | `plt.bar()`                      | `sns.barplot()`                  | Compare values across categories; good for counts or averages                   |\n",
    "| **Histogram**    | `go.Histogram()`               | `px.histogram()`                 | `plt.hist()`                     | `sns.histplot()`                 | Visualize distribution of a single numeric variable                             |\n",
    "| **Box Plot**     | `go.Box()`                     | `px.box()`                       | `plt.boxplot()`                  | `sns.boxplot()`                  | Show spread and outliers across categories                                     |\n",
    "| **Violin Plot**  | `go.Violin()`                  | `px.violin()`                    | *(not native)*                   | `sns.violinplot()`               | Compare distributions with density curves; useful for skewed data              |\n",
    "| **Heatmap**      | `go.Heatmap()`                 | `px.density_heatmap()` or `px.imshow()` | `plt.imshow()` or `plt.matshow()` | `sns.heatmap()`                  | Visualize correlation matrices or intensity grids                              |\n",
    "| **Pie Chart**    | `go.Pie()`                     | `px.pie()`                       | `plt.pie()`                      | *(not native)*                   | Show proportions of a whole; best for small category counts                    |\n",
    "| **Facet Grid**   | *(manual subplot setup)*       | `px.scatter(..., facet_col=...)`| *(manual subplot setup)*         | `sns.FacetGrid()`                | Compare patterns across subgroups in separate panels                           |\n",
    "| **Pair Plot**    | *(manual setup)*               | *(not native but see Scatter Matrix)*                   | *(manual setup)*                 | `sns.pairplot()`                 | Explore relationships across multiple numeric variables                        |\n",
    "| **Regression Plot** | *(manual with statsmodels)* | `px.scatter(..., trendline=\"ols\")` | *(manual with statsmodels)*      | `sns.regplot()` / `sns.lmplot()`| Visualize linear relationships with fitted lines                               |\n",
    "\n",
    "---\n",
    "\n",
    "**Summary**:  \n",
    "Plotly Express offers **most of the same chart types** as core Plotly, but with **faster syntax, built-in grouping, and smart defaults**. It’s ideal for rapid development and interactive EDA. For advanced customization or mixed trace types, you can always start with Express and extend using `fig.add_trace()` from Graph Objects.\n",
    "\n",
    "Let me know if you'd like this table wrapped into a glossary block or reusable Markdown snippet for your notebooks."
   ]
  }
 ],
 "metadata": {
  "language_info": {
   "name": "python"
  }
 },
 "nbformat": 4,
 "nbformat_minor": 5
}
