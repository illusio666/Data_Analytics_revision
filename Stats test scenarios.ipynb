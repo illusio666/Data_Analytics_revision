{
 "cells": [
  {
   "cell_type": "markdown",
   "id": "b413c988",
   "metadata": {},
   "source": [
    "# Statistical Tests – Purpose, Function, and Real-World Examples (with Plain English)\n",
    "\n",
    "| Test Name             | Purpose                                      | Python Function (Pingouin/Scipy/Statsmodels)                      | Strategic Example                                      | Operational Example                                   | Regulatory/Audit Example                             | Plain English Explanation                            |\n",
    "|----------------------|----------------------------------------------|-------------------------------------------------------------------|--------------------------------------------------------|------------------------------------------------------|------------------------------------------------------|------------------------------------------------------|\n",
    "| **Shapiro-Wilk**     | Test for normality in small samples          | `pingouin.normality(data, method='shapiro')`                      | Checking if monthly customer spend is normally distributed before forecasting | Testing if daily transaction volumes follow a bell curve | Assessing normality of sample returns before applying parametric VaR | Are the numbers shaped like a bell curve? If not, some models might give misleading results. |\n",
    "| **Anderson-Darling** | Sensitive normality test                     | `pingouin.normality(data, method='anderson')`                     | Evaluating credit risk scores before building a regression model | Testing system response times for parametric thresholds | Checking distribution of audit scores before applying parametric benchmarks | A more sensitive test to check if your data behaves like a bell curve—especially at the edges. |\n",
    "| **Chi-square**       | Test independence between categorical vars   | `scipy.stats.chi2_contingency()`                                  | Is churn related to subscription tier?                 | Do error types vary by department?                   | Are compliance breaches linked to business unit?     | Are two categories connected, or do they behave independently? |\n",
    "| **Pearson Corr.**    | Linear correlation (numerical, normal)       | `pingouin.corr(data, x, y, method='pearson')`                     | Does ad spend drive revenue?                           | Does server uptime affect resolution speed?          | Do more training hours lead to better audit scores?  | Do two sets of numbers rise and fall together in a straight-line way? |\n",
    "| **Spearman Corr.**   | Rank-based correlation (non-normal)          | `pingouin.corr(data, x, y, method='spearman')`                    | Do higher satisfaction scores mean more loyalty?       | Do more alerts mean slower resolution?               | Do stronger controls lead to fewer audit findings?   | Do higher ranks in one variable match higher ranks in another—even if not linear? |\n",
    "| **Kendall’s Tau**    | Ordinal correlation                          | `pingouin.corr(data, x, y, method='kendall')`                     | Do senior job levels match higher leadership ratings?  | Do ticket priorities match actual resolution order?  | Do more severe issues happen more frequently?        | Are two ranked lists moving in the same direction, even if imperfectly? |\n",
    "| **Partial Corr.**    | Correlation controlling for third variable   | `pingouin.partial_corr(data, x, y, covar)`                        | Does spend affect revenue when seasonality is removed? | Does churn relate to usage when tenure is controlled? | Does risk relate to control strength after adjusting for business size? | Are two things related even after removing the influence of a third factor? |\n",
    "| **Cramér’s V**       | Strength of association (categorical)        | `custom_cramers_v()` or `pingouin.cronbach_alpha()`               | Is product category strongly linked to region?         | Is issue type tied to resolution team?               | Is policy type linked to breach frequency?           | How strong is the connection between two categories? |\n",
    "| **T-test**           | Compare means of two groups (independent)    | `pingouin.ttest(x, y)`                                            | Do two customer segments spend differently?            | Do two teams resolve tickets at different speeds?    | Do two branches score differently in audits?         | Are the averages of two separate groups meaningfully different? |\n",
    "| **Paired T-test**    | Compare means of paired samples              | `pingouin.ttest(x, y, paired=True)`                               | Did training improve employee performance?             | Did system performance improve after upgrade?        | Did audit scores change after a policy update?       | Did the same group change over time—before vs. after? |\n",
    "| **Mann-Whitney U**   | Non-parametric test for two independent groups | `pingouin.mwu(x, y)`                                              | Do two regions differ in satisfaction scores (non-normal)? | Do two systems have different error rates?           | Do two compliance teams have different breach counts? | Like a t-test, but for skewed or non-normal data. |\n",
    "| **Wilcoxon**         | Non-parametric test for paired samples       | `pingouin.wilcoxon(x, y)`                                         | Did leadership training improve feedback scores?       | Did defect rates drop after process change?          | Did control scores improve after implementation?     | Like a paired t-test, but for non-normal data. |\n",
    "| **ANOVA**            | Compare means across 3+ groups               | `pingouin.anova(data, dv='value', between='group')`               | Which product line has the highest engagement?         | Which team resolves issues fastest?                  | Which department scores highest in audits?           | Are there differences in averages across multiple groups? |\n",
    "| **Kruskal-Wallis**   | Non-parametric ANOVA                         | `pingouin.kruskal(data, dv='value', between='group')`             | Which region has the highest satisfaction (non-normal)? | Which system has the most defects (non-normal)?      | Which audit cycle shows the strongest control ratings? | Like ANOVA, but for skewed or ordinal data. |"
   ]
  }
 ],
 "metadata": {
  "language_info": {
   "name": "python"
  }
 },
 "nbformat": 4,
 "nbformat_minor": 5
}
