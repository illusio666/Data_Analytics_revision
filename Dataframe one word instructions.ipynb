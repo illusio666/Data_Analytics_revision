{
 "cells": [
  {
   "cell_type": "markdown",
   "id": "e5f098f8",
   "metadata": {},
   "source": [
    "# 📊 Pandas DataFrame Methods – Quick Reference with Argument Purpose\n",
    "\n",
    "| Method               | Purpose (Plain English)                                      | Common Arguments / Variants                          | Why Use These Arguments                                |\n",
    "|----------------------|--------------------------------------------------------------|------------------------------------------------------|--------------------------------------------------------|\n",
    "| `df.info()`          | Overview of columns, types, nulls, memory                    | `verbose=True`, `memory_usage='deep'`                | Show full column info; get accurate memory usage       |\n",
    "| `df.describe()`      | Summary stats for numeric or all columns                     | `include='all'`, `percentiles=[...]`                 | Include non-numeric columns; customize quantiles       |\n",
    "| `df.head()`          | First few rows                                               | `n=5`                                                | Preview top `n` rows                                   |\n",
    "| `df.tail()`          | Last few rows                                                | `n=5`                                                | Preview bottom `n` rows                                |\n",
    "| `df.shape`           | Tuple of (rows, columns)                                     | —                                                    | Check dataset size                                     |\n",
    "| `df.columns`         | List of column names                                         | —                                                    | Useful for renaming or selection                       |\n",
    "| `df.index`           | Row index info                                               | —                                                    | Use when resetting or setting index                    |\n",
    "| `df.dtypes`          | Data types of each column                                    | —                                                    | Identify numeric, object, datetime types               |\n",
    "| `df.count()`         | Count of non-null entries                                    | `axis=0`                                              | Count by column (`axis=0`) or row (`axis=1`)           |\n",
    "| `df.nunique()`       | Number of unique values per column                           | `dropna=True`                                        | Include/exclude NaNs in uniqueness count               |\n",
    "| `df.value_counts()`  | Frequency of unique values in a Series                       | `normalize=True`, `dropna=False`                     | Show proportions; include/exclude missing values       |\n",
    "| `df.mean()`          | Column-wise mean                                             | `axis=0`, `skipna=True`                              | Skip NaNs; choose row or column-wise mean              |\n",
    "| `df.median()`        | Column-wise median                                           | `axis=0`, `skipna=True`                              | Robust central tendency; skip NaNs                     |\n",
    "| `df.std()`           | Standard deviation                                           | `axis=0`, `skipna=True`                              | Assess spread; skip NaNs                               |\n",
    "| `df.min()`           | Minimum value per column                                     | `axis=0`, `skipna=True`                              | Find lowest values; skip NaNs                          |\n",
    "| `df.max()`           | Maximum value per column                                     | `axis=0`, `skipna=True`                              | Find highest values; skip NaNs                         |\n",
    "| `df.sum()`           | Sum of values per column                                     | `axis=0`, `skipna=True`                              | Total values; skip NaNs                                |\n",
    "| `df.corr()`          | Correlation matrix                                           | `method='pearson'`, `'spearman'`, `'kendall'`        | Choose correlation type based on data distribution     |\n",
    "| `df.mode()`          | Most frequent value(s)                                       | `dropna=True`                                        | Include/exclude NaNs in mode calculation               |\n",
    "| `df.isnull()`        | Boolean mask of missing values                               | —                                                    | Identify missing entries                               |\n",
    "| `df.notnull()`       | Boolean mask of non-missing values                           | —                                                    | Identify complete entries                              |\n",
    "| `df.duplicated()`    | Boolean mask of duplicate rows                               | `subset=[...]`, `keep='first'`                       | Check duplicates in specific columns; keep logic       |\n",
    "| `df.dropna()`        | Remove missing values                                        | `axis=0`, `subset=[...]`, `how='any'`                | Drop rows/columns with missing data based on rules     |\n",
    "| `df.fillna()`        | Fill missing values                                          | `value=...`, `method='ffill'`, `'bfill'`             | Impute with static value or forward/backward fill      |\n",
    "| `df.sort_values()`   | Sort by column(s)                                            | `by='col'`, `ascending=True`                         | Sort by one or more columns; control order             |\n",
    "| `df.sort_index()`    | Sort by index                                                | `ascending=True`                                     | Reorder rows by index                                  |\n",
    "| `df.rename()`        | Rename columns or index                                      | `columns={'old':'new'}`                              | Standardize or clarify column names                    |\n",
    "| `df.astype()`        | Convert data types                                           | `{'col': 'int'}`                                     | Fix types for analysis or modeling                     |\n",
    "| `df.drop()`          | Remove rows or columns                                       | `columns=[...]`, `axis=1`                            | Clean up unwanted data                                 |\n",
    "| `df.apply()`         | Apply function across rows or columns                        | `axis=0`, `func=...`                                 | Use custom logic across rows or columns                |\n",
    "| `df.groupby()`       | Group data by column(s)                                      | `by='col'`                                           | Aggregate by category or group                         |\n",
    "| `df.agg()`           | Aggregate with multiple functions                            | `{'col': ['mean', 'std']}`                           | Apply multiple stats to grouped data                   |"
   ]
  }
 ],
 "metadata": {
  "language_info": {
   "name": "python"
  }
 },
 "nbformat": 4,
 "nbformat_minor": 5
}
